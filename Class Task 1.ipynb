{
 "cells": [
  {
   "cell_type": "markdown",
   "id": "955feb65",
   "metadata": {},
   "source": [
    "## Class Task (15 May 2022)"
   ]
  },
  {
   "cell_type": "code",
   "execution_count": null,
   "id": "740244af",
   "metadata": {},
   "outputs": [],
   "source": [
    "s = \"this is My First Python programming class and i am learNING python string and its function\"\n",
    "\n",
    "1 . Try to extract data from index one to index 300 with a jump of 3 \n",
    "2. Try to reverse a string without using reverse function \n",
    "3. Try to split a string after conversion of entire string in uppercase \n",
    "4. try to convert the whole string into lower case \n",
    "5 . Try to capitalize the whole string \n",
    "6 . Write a diference between isalnum() and isalpha()\n",
    "7. Try to give an example of expand tab\n",
    "8 . Give an example of strip , lstrip and rstrip \n",
    "9.  Replace a string charecter by another charector by taking your own example \n",
    "\"sudhanshu\"\n",
    "10 . Try  to give a defination of string center function with and exmple \n",
    "11 . Write your own definition of compiler and interpretor without copy paste form internet in your own language\n",
    "12 . Python is a interpreted of compiled language give a clear ans with your understanding \n",
    "13 . Try to write a usecase of python with your understanding ."
   ]
  },
  {
   "cell_type": "code",
   "execution_count": 2,
   "id": "a84b926b",
   "metadata": {},
   "outputs": [],
   "source": [
    "s = \"this is My First Python programming class and i am learNING python string and its function\""
   ]
  },
  {
   "cell_type": "markdown",
   "id": "100266a9",
   "metadata": {},
   "source": [
    "### 1."
   ]
  },
  {
   "cell_type": "code",
   "execution_count": 6,
   "id": "8d907d2f",
   "metadata": {},
   "outputs": [
    {
     "data": {
      "text/plain": [
       "'h   r tnrrmglsnimeNGyosi dtfco'"
      ]
     },
     "execution_count": 6,
     "metadata": {},
     "output_type": "execute_result"
    }
   ],
   "source": [
    "s[1:300:3]"
   ]
  },
  {
   "cell_type": "markdown",
   "id": "17fde3e8",
   "metadata": {},
   "source": [
    "### 2."
   ]
  },
  {
   "cell_type": "code",
   "execution_count": 7,
   "id": "9bbbae05",
   "metadata": {},
   "outputs": [
    {
     "data": {
      "text/plain": [
       "'noitcnuf sti dna gnirts nohtyp GNINrael ma i dna ssalc gnimmargorp nohtyP tsriF yM si siht'"
      ]
     },
     "execution_count": 7,
     "metadata": {},
     "output_type": "execute_result"
    }
   ],
   "source": [
    "s[-1::-1]"
   ]
  },
  {
   "cell_type": "markdown",
   "id": "b2d09025",
   "metadata": {},
   "source": [
    "### 3."
   ]
  },
  {
   "cell_type": "code",
   "execution_count": 8,
   "id": "21170c1e",
   "metadata": {
    "scrolled": true
   },
   "outputs": [
    {
     "data": {
      "text/plain": [
       "['THIS',\n",
       " 'IS',\n",
       " 'MY',\n",
       " 'FIRST',\n",
       " 'PYTHON',\n",
       " 'PROGRAMMING',\n",
       " 'CLASS',\n",
       " 'AND',\n",
       " 'I',\n",
       " 'AM',\n",
       " 'LEARNING',\n",
       " 'PYTHON',\n",
       " 'STRING',\n",
       " 'AND',\n",
       " 'ITS',\n",
       " 'FUNCTION']"
      ]
     },
     "execution_count": 8,
     "metadata": {},
     "output_type": "execute_result"
    }
   ],
   "source": [
    "s1 = s.upper()\n",
    "s2 = s1.split()\n",
    "s2"
   ]
  },
  {
   "cell_type": "markdown",
   "id": "c652dd65",
   "metadata": {},
   "source": [
    "### 4."
   ]
  },
  {
   "cell_type": "code",
   "execution_count": 9,
   "id": "f76e2392",
   "metadata": {},
   "outputs": [
    {
     "data": {
      "text/plain": [
       "'this is my first python programming class and i am learning python string and its function'"
      ]
     },
     "execution_count": 9,
     "metadata": {},
     "output_type": "execute_result"
    }
   ],
   "source": [
    "s.lower()"
   ]
  },
  {
   "cell_type": "markdown",
   "id": "38994c72",
   "metadata": {},
   "source": [
    "### 5."
   ]
  },
  {
   "cell_type": "code",
   "execution_count": 12,
   "id": "71c8b75b",
   "metadata": {},
   "outputs": [
    {
     "data": {
      "text/plain": [
       "'This is my first python programming class and i am learning python string and its function'"
      ]
     },
     "execution_count": 12,
     "metadata": {},
     "output_type": "execute_result"
    }
   ],
   "source": [
    "s.capitalize()"
   ]
  },
  {
   "cell_type": "markdown",
   "id": "0d985c74",
   "metadata": {},
   "source": [
    "### 6.\n",
    "\n",
    "isalnum() returns true when all characters in the string are albhabet or numeric, while isalpha() returns true if all\n",
    "characters in the string are alphabets."
   ]
  },
  {
   "cell_type": "markdown",
   "id": "6917710c",
   "metadata": {},
   "source": [
    "### 7."
   ]
  },
  {
   "cell_type": "code",
   "execution_count": 14,
   "id": "1016be37",
   "metadata": {},
   "outputs": [
    {
     "data": {
      "text/plain": [
       "'ine     uro     n'"
      ]
     },
     "execution_count": 14,
     "metadata": {},
     "output_type": "execute_result"
    }
   ],
   "source": [
    "k = 'ine\\turo\\tn'\n",
    "k.expandtabs()"
   ]
  },
  {
   "cell_type": "markdown",
   "id": "41752851",
   "metadata": {},
   "source": [
    "### 8."
   ]
  },
  {
   "cell_type": "code",
   "execution_count": 20,
   "id": "a987685d",
   "metadata": {},
   "outputs": [
    {
     "data": {
      "text/plain": [
       "'full    stack      development'"
      ]
     },
     "execution_count": 20,
     "metadata": {},
     "output_type": "execute_result"
    }
   ],
   "source": [
    "k = '      full    stack      development  '\n",
    "k.strip()"
   ]
  },
  {
   "cell_type": "code",
   "execution_count": 21,
   "id": "62bb1c37",
   "metadata": {},
   "outputs": [
    {
     "data": {
      "text/plain": [
       "'full    stack      development  '"
      ]
     },
     "execution_count": 21,
     "metadata": {},
     "output_type": "execute_result"
    }
   ],
   "source": [
    "k.lstrip()"
   ]
  },
  {
   "cell_type": "code",
   "execution_count": 22,
   "id": "e7abf4d5",
   "metadata": {},
   "outputs": [
    {
     "data": {
      "text/plain": [
       "'      full    stack      development'"
      ]
     },
     "execution_count": 22,
     "metadata": {},
     "output_type": "execute_result"
    }
   ],
   "source": [
    "k.rstrip()"
   ]
  },
  {
   "cell_type": "markdown",
   "id": "75e8ef1b",
   "metadata": {},
   "source": [
    "### 9."
   ]
  },
  {
   "cell_type": "code",
   "execution_count": 25,
   "id": "305422c8",
   "metadata": {},
   "outputs": [
    {
     "data": {
      "text/plain": [
       "'inluron coursl'"
      ]
     },
     "execution_count": 25,
     "metadata": {},
     "output_type": "execute_result"
    }
   ],
   "source": [
    "s = 'ineuron course'\n",
    "s.replace('e','l')"
   ]
  },
  {
   "cell_type": "markdown",
   "id": "357b7c09",
   "metadata": {},
   "source": [
    "### 10.\n",
    "center() reserves a space of length as mentioned in first argument with the string placed at the centre and remaining space\n",
    "filled/padded by second argument, default padding is space."
   ]
  },
  {
   "cell_type": "code",
   "execution_count": 28,
   "id": "87c708f4",
   "metadata": {},
   "outputs": [
    {
     "data": {
      "text/plain": [
       "'$$$$$$$$$$$$$$$$ineuron course$$$$$$$$$$$$$$$'"
      ]
     },
     "execution_count": 28,
     "metadata": {},
     "output_type": "execute_result"
    }
   ],
   "source": [
    "s = 'ineuron course'\n",
    "s.center(45,'$')"
   ]
  },
  {
   "cell_type": "markdown",
   "id": "5d759096",
   "metadata": {},
   "source": [
    "### 11.\n",
    "Compiler reads the entire program or source code (understandable by humans) at once and converts it into machine code \n",
    "(understandable by computers). The overall execution time is fast and effective but uses more memory. On the other hand, \n",
    "interpreters scans the source code line by line and convert each line of data, unlike compilers they don't convert it to \n",
    "machine code and hence take longer time to execute. C, C++, Java uses compilers while Python, PERL, Ruby use interpreters. "
   ]
  },
  {
   "cell_type": "markdown",
   "id": "e9480e75",
   "metadata": {},
   "source": [
    "### 12.\n",
    "Python is an interpreted language as it uses the source code and translates each line at a time along with checking for errors. \n",
    "It can execute the codes immediately in an interactive mode. It does not generate any intermediate code forms. As it compiles\n",
    "execution occurs line by line, hence debugging becomes a lot easier compared to languages like C, C++."
   ]
  },
  {
   "cell_type": "markdown",
   "id": "34f301b2",
   "metadata": {},
   "source": [
    "### 13.\n",
    "\n",
    "###### i. Data Science\n",
    "###### ii. Software development\n",
    "###### iii. Game development\n",
    "###### iv. Web applications\n",
    "###### v. Machine Learning"
   ]
  }
 ],
 "metadata": {
  "kernelspec": {
   "display_name": "Python 3",
   "language": "python",
   "name": "python3"
  },
  "language_info": {
   "codemirror_mode": {
    "name": "ipython",
    "version": 3
   },
   "file_extension": ".py",
   "mimetype": "text/x-python",
   "name": "python",
   "nbconvert_exporter": "python",
   "pygments_lexer": "ipython3",
   "version": "3.8.8"
  }
 },
 "nbformat": 4,
 "nbformat_minor": 5
}
