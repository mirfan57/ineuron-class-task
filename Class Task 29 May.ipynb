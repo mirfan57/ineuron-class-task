{
 "cells": [
  {
   "cell_type": "code",
   "execution_count": null,
   "id": "284ba9bb",
   "metadata": {},
   "outputs": [],
   "source": [
    "Your First Challenge : \n",
    "    \n",
    "you have to submit it by next saturday 4th june 2022  : \n",
    "    shivan@ineuron.ai ,sudhanshu@ineuron.ai\n",
    "    \n",
    "q1 : Try to print this by using while loop \n",
    "* \n",
    "* * \n",
    "* * * \n",
    "* * * * \n",
    "* * * * * \n",
    "* * * * * * \n",
    "* * * * * * * \n",
    "* * * * * * * * \n",
    "* * * * * * * * * \n",
    "\n",
    "q2 : try to print below by using while loop : \n",
    "        \n",
    "A\n",
    "B H \n",
    "C I N\n",
    "D J o S\n",
    "E K p T W\n",
    "F L Q U X z\n",
    "G M R V Y \n",
    "\n",
    "q3 : Try to print all the number divisible by 3 in between a range of 40 - 400\n",
    "    \n",
    "q4 : Try to filter out all the vowels form below text by using while loop : \n",
    " \"\"\"Python is a high-level, interpreted, general-purpose programming language. Its design philosophy emphasizes code readability with the use of significant indentation.[32]\n",
    "\n",
    "Python is dynamically-typed and garbage-collected. It supports multiple programming paradigms, including structured (particularly procedural), object-oriented and functional programming. It is often described as a \"batteries included\" language due to its comprehensive standard library.[33][34]\n",
    "\n",
    "Guido van Rossum began working on Python in the late 1980s as a successor to the ABC programming language and first released it in 1991 as Python 0.9.0.[35] Python 2.0 was released in 2000 and introduced new features such as list comprehensions, cycle-detecting garbage collection, reference counting, and Unicode support. Python 3.0, released in 2008, was a major revision that is not completely backward-compatible with earlier versions. Python 2 was discontinued with version 2.7.18 in 2020.[36]\n",
    "\n",
    "Python consistently ranks as one of the most popular programming languagesc\"\"\" \n",
    "\n",
    "\n",
    "q5 : Try to generate all the even number between 1- 1000\n",
    "\n",
    "*q6 : Define a function for all the above problem statememnt. \n",
    "    \n",
    "q7 : write a code to get a time of your system \n",
    "\n",
    "q8 : Write a code to fetch date form your system \n",
    "\n",
    "q9 : Write a code to send a mail to your friend \n",
    "\n",
    "*q10 : write a code to trigger alarm for you at scheduled time \n",
    "\n",
    "q11 : write a code to check ip address of your system \n",
    "\n",
    "*q12 : Write a code to check a perticular installation in your system\n",
    "\n",
    "q13 : Write a code to convert any text in to voice \n",
    "\n",
    "q14 : you have to write a fun which will take string and return a len of \n",
    "it without using a inbuilt fun len\n",
    "\n",
    "*q15 :write a fun which will be able to print an index of all premitive element which you will pass \n",
    "\n",
    "q16 : Write a fun which will take input as a dict and give me out as a list of all the values \n",
    "even in case of 2 level nesting it should work . \n",
    "\n",
    "q17 : write a function whihc will take multiple list as a input and give me concatnation of all the element as \n",
    "and output\n",
    "\n",
    "q18 : Write a function which will whould return list of all the file name from a directory . \n",
    "\n",
    "q19 : write a function whihc will be able to read a image file and show it to you .\n",
    "    \n",
    "q20 : write a function by which you will be able to append two PDF files . \n",
    "    \n",
    "q21 : write a function which can help you to filter only word file from a directory . \n",
    "    \n",
    "*q22 : write a function which can read video file and play for you . \n",
    "    \n",
    "*q23 : write a function which will be able to shutdonw your system . \n",
    "\n",
    "q24 : Write a function which will whould return list of all the file name from a directory . \n",
    "\n",
    "*q25 : write a function whihc will be able to access your mail ."
   ]
  },
  {
   "cell_type": "code",
   "execution_count": null,
   "id": "6db91f18",
   "metadata": {},
   "outputs": [],
   "source": [
    "# q1\n",
    "n = 9\n",
    "a = 0\n",
    "\n",
    "while a < n:\n",
    "    star = a + 1\n",
    "    while star > 0:\n",
    "        print(\"*\", end=\" \")\n",
    "        star -= 1\n",
    "    a += 1\n",
    "    print()"
   ]
  },
  {
   "cell_type": "markdown",
   "id": "4e64babf",
   "metadata": {},
   "source": [
    "ASCII characters                               ASCII value\n",
    "- A-Z                ------->                    [65-90]\n",
    "- a-z                ------->                    [97-122]\n",
    "- 0-9                ------->                    [48-57]\n",
    "- Special symbols    ------->             [0-47,58-64,91-96,123-127]"
   ]
  },
  {
   "cell_type": "code",
   "execution_count": null,
   "id": "b961f6c6",
   "metadata": {},
   "outputs": [],
   "source": [
    "# q2\n",
    "'''\n",
    "A\n",
    "B H \n",
    "C I N\n",
    "D J o S\n",
    "E K p T W\n",
    "F L Q U X z\n",
    "G M R V Y\n",
    "\n",
    "'''\n",
    " \n",
    "\n",
    "n = 7\n",
    "i = 0\n",
    "\n",
    "while i < n:\n",
    "    val = i + 65\n",
    "    dec = n - 1\n",
    "    j = 0\n",
    "    while j <= i:\n",
    "        print(chr(val),end=\" \")\n",
    "        val = val + dec\n",
    "        dec = dec - 1\n",
    "        j = j + 1\n",
    "        if val > 90:\n",
    "            break\n",
    "    i += 1\n",
    "    print()"
   ]
  },
  {
   "cell_type": "code",
   "execution_count": 5,
   "id": "59f51359",
   "metadata": {},
   "outputs": [
    {
     "data": {
      "text/plain": [
       "False"
      ]
     },
     "execution_count": 5,
     "metadata": {},
     "output_type": "execute_result"
    }
   ],
   "source": [
    "a = \"bjs9\"\n",
    "a.isalpha()"
   ]
  },
  {
   "cell_type": "code",
   "execution_count": 8,
   "id": "b0315858",
   "metadata": {},
   "outputs": [
    {
     "name": "stdout",
     "output_type": "stream",
     "text": [
      "A \n",
      "B H \n",
      "C I N \n",
      "D J O S \n",
      "E K P T W \n",
      "F L Q U X Z \n",
      "G M R V Y \n"
     ]
    }
   ],
   "source": [
    "i=0\n",
    "while i<7:\n",
    "    l=7\n",
    "    k=i+65  \n",
    "    for j in range(i+1):\n",
    "        if chr(k).isalpha():\n",
    "            print(chr(k),end=\" \") \n",
    "            l = l-1\n",
    "            k = k+l\n",
    "    i += 1\n",
    "    print()\n"
   ]
  },
  {
   "cell_type": "code",
   "execution_count": null,
   "id": "17173b99",
   "metadata": {},
   "outputs": [],
   "source": [
    "# q3: Try to print all the number divisible by 3 in between a range of 40 - 400\n",
    "for i in range(40,400):\n",
    "    if i % 3 == 0:\n",
    "        print(i)"
   ]
  },
  {
   "cell_type": "code",
   "execution_count": null,
   "id": "6a0351cc",
   "metadata": {},
   "outputs": [],
   "source": [
    "# q4\n",
    "s = '''Python is a high-level, interpreted, general-purpose programming language. Its design philosophy emphasizes code readability with the use of significant indentation.[32]\n",
    "\n",
    "Python is dynamically-typed and garbage-collected. It supports multiple programming paradigms, including structured (particularly procedural), object-oriented and functional programming. It is often described as a \"batteries included\" language due to its comprehensive standard library.[33][34]\n",
    "\n",
    "Guido van Rossum began working on Python in the late 1980s as a successor to the ABC programming language and first released it in 1991 as Python 0.9.0.[35] Python 2.0 was released in 2000 and introduced new features such as list comprehensions, cycle-detecting garbage collection, reference counting, and Unicode support. Python 3.0, released in 2008, was a major revision that is not completely backward-compatible with earlier versions. Python 2 was discontinued with version 2.7.18 in 2020.[36]\n",
    "\n",
    "Python consistently ranks as one of the most popular programming languagesc'''\n",
    "a = \"AaIiEeOoUu\"\n",
    "i = 0\n",
    "\n",
    "while i < len(s):\n",
    "    if s[i] in a:\n",
    "        print(s[i])\n",
    "    i += 1"
   ]
  },
  {
   "cell_type": "code",
   "execution_count": null,
   "id": "48505d9e",
   "metadata": {},
   "outputs": [],
   "source": [
    "# q5: Try to generate all the even number between 1- 1000\n",
    "for i in range(1,1000):\n",
    "    if i % 2 == 0:\n",
    "        print(i)"
   ]
  },
  {
   "cell_type": "code",
   "execution_count": null,
   "id": "08fa06fe",
   "metadata": {},
   "outputs": [],
   "source": [
    "# q7: write a code to get a time of your system\n",
    "import datetime as dt\n",
    "time_now = dt.datetime.now().time()\n",
    "\n",
    "print(\"System time now is \",time_now)"
   ]
  },
  {
   "cell_type": "code",
   "execution_count": null,
   "id": "8bdbf6c9",
   "metadata": {},
   "outputs": [],
   "source": [
    "# q8: q8 : Write a code to fetch date form your system \n",
    "\n",
    "d = dt.date.today()\n",
    "print(\"System date today is\",d)"
   ]
  },
  {
   "cell_type": "code",
   "execution_count": null,
   "id": "9997c975",
   "metadata": {},
   "outputs": [],
   "source": [
    "# q9: Write a code to send a mail to your friend\n",
    "import smtplib\n",
    "\n",
    "server = smtplib.SMTP('smtp.gmail.com',587)\n",
    "\n",
    "server.starttls()\n",
    "\n",
    "server.login('mohdirfan57@gmail.com','nhcueaftmhkvomgu')\n",
    "\n",
    "server.sendmail('mohdirfan57@gmail.com',\n",
    "                'mirfan.qasim1996@gmail.com',\n",
    "                'Hello, This is my first email using python programming. It was nice contacting you.  Regards')\n",
    "\n",
    "print('Mail sent successfully')"
   ]
  },
  {
   "cell_type": "code",
   "execution_count": 10,
   "id": "2e3f2a92",
   "metadata": {},
   "outputs": [
    {
     "data": {
      "text/plain": [
       "'C:\\\\Users\\\\Mohammad Irfan'"
      ]
     },
     "execution_count": 10,
     "metadata": {},
     "output_type": "execute_result"
    }
   ],
   "source": [
    "import os\n",
    "os.getcwd()"
   ]
  },
  {
   "cell_type": "code",
   "execution_count": 11,
   "id": "cf1288f6",
   "metadata": {},
   "outputs": [],
   "source": [
    "#q10: write a code to trigger alarm for you at scheduled time\n",
    "\n",
    "import time\n",
    "import playsound\n",
    "\n",
    "alarm_time = '22:46'\n",
    "if time.asctime()[11:-8] == alarm_time :\n",
    "    absolute_path = os.path.abspath(\"alarm_audio.wav\")\n",
    "    print(absolute_path)\n",
    "    playsound.playsound(absolute_path)\n"
   ]
  },
  {
   "cell_type": "code",
   "execution_count": null,
   "id": "a52abb21",
   "metadata": {},
   "outputs": [],
   "source": [
    "# q11: write a code to check ip address of your system\n",
    "import socket\n",
    "\n",
    "host_name = socket.gethostname()\n",
    "\n",
    "ip_add = socket.gethostbyname(host_name)\n",
    "\n",
    "print(\"My IP address is:\",ip_add)"
   ]
  },
  {
   "cell_type": "code",
   "execution_count": 1,
   "id": "07cebb2b",
   "metadata": {
    "scrolled": true
   },
   "outputs": [
    {
     "name": "stdout",
     "output_type": "stream",
     "text": [
      "Collecting winapps\n",
      "  Downloading winapps-0.2.0-py3-none-any.whl (9.1 kB)\n",
      "Collecting plumbum<2.0,>=1.6\n",
      "  Downloading plumbum-1.7.2-py2.py3-none-any.whl (117 kB)\n",
      "Requirement already satisfied: pywin32 in c:\\anaconda\\lib\\site-packages (from plumbum<2.0,>=1.6->winapps) (227)\n",
      "Installing collected packages: plumbum, winapps\n",
      "Successfully installed plumbum-1.7.2 winapps-0.2.0\n"
     ]
    }
   ],
   "source": [
    "!pip install winapps"
   ]
  },
  {
   "cell_type": "code",
   "execution_count": 2,
   "id": "8f43fac8",
   "metadata": {},
   "outputs": [
    {
     "data": {
      "text/plain": [
       "[InstalledApplication(name='7Launcher CS:GO 1.4.6', version='1.4.6', install_date=datetime.date(2022, 1, 9), install_location=WindowsPath('D:/4 HDD F DRIVE- VAULT/Counter-Strike Global Offensive'), install_source=None, modify_path=None, publisher='SE7EN Solutions', uninstall_string='\"D:\\\\4 HDD F DRIVE- VAULT\\\\Counter-Strike Global Offensive\\\\uninstall7l\\\\unins000.exe\"'),\n",
       " InstalledApplication(name='ShareX', version='13.5.0', install_date=datetime.date(2021, 8, 8), install_location=WindowsPath('C:/Program Files/ShareX'), install_source=None, modify_path=None, publisher='ShareX Team', uninstall_string='\"C:\\\\Program Files\\\\ShareX\\\\unins000.exe\"'),\n",
       " InstalledApplication(name='Mendeley Reference Manager 2.59.0', version='2.59.0', install_date=None, install_location=None, install_source=None, modify_path=None, publisher='Mendeley', uninstall_string='\"C:\\\\Program Files\\\\Mendeley Reference Manager\\\\Uninstall Mendeley Reference Manager.exe\" /allusers'),\n",
       " InstalledApplication(name='BlueStacks 5', version='5.5.10.1001', install_date=datetime.date(2022, 1, 9), install_location=None, install_source=None, modify_path=None, publisher='BlueStack Systems, Inc.', uninstall_string='C:\\\\Program Files\\\\BlueStacks_nxt\\\\BlueStacksUninstaller.exe -tmp'),\n",
       " InstalledApplication(name='IrfanView 4.58 (64-bit)', version='4.58', install_date=None, install_location=WindowsPath('C:/Program Files/IrfanView'), install_source=None, modify_path=None, publisher='Irfan Skiljan', uninstall_string='\"C:\\\\Program Files\\\\IrfanView\\\\iv_uninstall.exe\"'),\n",
       " InstalledApplication(name='Kite', version=None, install_date=None, install_location=None, install_source=None, modify_path=None, publisher='Manhattan Engineering Inc', uninstall_string='\"C:\\\\Program Files\\\\Kite\\\\Uninstaller.exe\"'),\n",
       " InstalledApplication(name='Microsoft OneDrive', version='22.099.0508.0001', install_date=None, install_location=None, install_source=None, modify_path=None, publisher='Microsoft Corporation', uninstall_string='C:\\\\Program Files\\\\Microsoft OneDrive\\\\22.099.0508.0001\\\\OneDriveSetup.exe  /uninstall  /allusers '),\n",
       " InstalledApplication(name='Microsoft Project - en-us', version='16.0.15225.20204', install_date=None, install_location=WindowsPath('C:/Program Files/Microsoft Office'), install_source=None, modify_path='\"C:\\\\Program Files\\\\Common Files\\\\Microsoft Shared\\\\ClickToRun\\\\OfficeClickToRun.exe\" scenario=repair platform=x64 culture=en-us', publisher='Microsoft Corporation', uninstall_string='\"C:\\\\Program Files\\\\Common Files\\\\Microsoft Shared\\\\ClickToRun\\\\OfficeClickToRun.exe\" scenario=install scenariosubtype=ARP sourcetype=None productstoremove=ProjectPro2019Retail.16_en-us_x-none culture=en-us version.16=16.0'),\n",
       " InstalledApplication(name='Microsoft Office Professional Plus 2019 - en-us', version='16.0.15225.20204', install_date=None, install_location=WindowsPath('C:/Program Files/Microsoft Office'), install_source=None, modify_path='\"C:\\\\Program Files\\\\Common Files\\\\Microsoft Shared\\\\ClickToRun\\\\OfficeClickToRun.exe\" scenario=repair platform=x64 culture=en-us', publisher='Microsoft Corporation', uninstall_string='\"C:\\\\Program Files\\\\Common Files\\\\Microsoft Shared\\\\ClickToRun\\\\OfficeClickToRun.exe\" scenario=install scenariosubtype=ARP sourcetype=None productstoremove=ProPlus2019Retail.16_en-us_x-none culture=en-us version.16=16.0'),\n",
       " InstalledApplication(name='Recorder Devices for ShareX 0.12.10', version='0.12.10', install_date=datetime.date(2021, 8, 21), install_location=WindowsPath('C:/Program Files/Recorder Devices for ShareX'), install_source=None, modify_path=None, publisher=None, uninstall_string='\"C:\\\\Program Files\\\\Recorder Devices for ShareX\\\\unins000.exe\"'),\n",
       " InstalledApplication(name='FIFA 22', version=None, install_date=None, install_location=WindowsPath('D:/SteamLibrary/steamapps/common/FIFA 22'), install_source=None, modify_path=None, publisher='EA Canada &amp; EA Romania', uninstall_string='\"C:\\\\Program Files (x86)\\\\Steam\\\\steam.exe\" steam://uninstall/1506830'),\n",
       " InstalledApplication(name='Microsoft Visio - en-us', version='16.0.15225.20204', install_date=None, install_location=WindowsPath('C:/Program Files/Microsoft Office'), install_source=None, modify_path='\"C:\\\\Program Files\\\\Common Files\\\\Microsoft Shared\\\\ClickToRun\\\\OfficeClickToRun.exe\" scenario=repair platform=x64 culture=en-us', publisher='Microsoft Corporation', uninstall_string='\"C:\\\\Program Files\\\\Common Files\\\\Microsoft Shared\\\\ClickToRun\\\\OfficeClickToRun.exe\" scenario=install scenariosubtype=ARP sourcetype=None productstoremove=VisioPro2019Retail.16_en-us_x-none culture=en-us version.16=16.0'),\n",
       " InstalledApplication(name='VLC media player', version='3.0.12', install_date=None, install_location=WindowsPath('C:/Program Files/VideoLAN/VLC'), install_source=None, modify_path=None, publisher='VideoLAN', uninstall_string='\"C:\\\\Program Files\\\\VideoLAN\\\\VLC\\\\uninstall.exe\"'),\n",
       " InstalledApplication(name='WinRAR 5.10 (64-bit)', version='5.10.0', install_date=None, install_location=WindowsPath('C:/Program Files/WinRAR'), install_source=None, modify_path=None, publisher='win.rar GmbH', uninstall_string='C:\\\\Program Files\\\\WinRAR\\\\uninstall.exe'),\n",
       " InstalledApplication(name='ARMOURY CRATE Service', version='5.1.4', install_date=datetime.date(2021, 9, 26), install_location='', install_source=WindowsPath('C:/ProgramData/ASUS/RLSDownload/ArmouryCrateService/8_APP/9085/ArmouryCrateService/Service'), modify_path='C:\\\\ProgramData\\\\ASUS\\\\ARMOURYCRATEServiceUninstall\\\\Uninstall.exe', publisher='ASUS', uninstall_string='C:\\\\ProgramData\\\\ASUS\\\\ARMOURYCRATEServiceUninstall\\\\Uninstall.exe'),\n",
       " InstalledApplication(name='Free Download Manager', version='6.14.2.3973', install_date=datetime.date(2021, 8, 11), install_location=WindowsPath('C:/Program Files/Softdeluxe/Free Download Manager'), install_source=None, modify_path=None, publisher='Softdeluxe', uninstall_string='\"C:\\\\Program Files\\\\Softdeluxe\\\\Free Download Manager\\\\unins000.exe\"'),\n",
       " InstalledApplication(name='ASUS HID Control Service', version='1.2.0', install_date=datetime.date(2021, 9, 27), install_location='', install_source=WindowsPath('C:/ProgramData/ASUS/ASUS System Control Interface/AsusSoftwareManager/AsusLiveUpdate/Temp/1'), modify_path='MsiExec.exe /I{0F2EECD1-9CCE-4907-8D9A-11629B0608CE}', publisher='ASUS', uninstall_string='MsiExec.exe /I{0F2EECD1-9CCE-4907-8D9A-11629B0608CE}'),\n",
       " InstalledApplication(name='Microsoft Visual C++ 2010  x64 Redistributable - 10.0.40219', version='10.0.40219', install_date=datetime.date(2021, 8, 21), install_location='', install_source=WindowsPath('d:/a191b9bb62c3f24b988b'), modify_path='MsiExec.exe /X{1D8E6291-B0D5-35EC-8441-6616F567A0F7}', publisher='Microsoft Corporation', uninstall_string='MsiExec.exe /X{1D8E6291-B0D5-35EC-8441-6616F567A0F7}'),\n",
       " InstalledApplication(name='Microsoft Update Health Tools', version='4.67.0.0', install_date=datetime.date(2022, 4, 7), install_location='', install_source=WindowsPath('C:/WINDOWS/TEMP/04A4BD9E-6C82-42DA-9561-C3A0875CA690'), modify_path='MsiExec.exe /X{6A2A8076-135F-4F55-BB02-DED67C8C6934}', publisher='Microsoft Corporation', uninstall_string='MsiExec.exe /X{6A2A8076-135F-4F55-BB02-DED67C8C6934}'),\n",
       " InstalledApplication(name='Adobe Acrobat DC (64-bit)', version='22.001.20117', install_date=datetime.date(2022, 4, 12), install_location=WindowsPath('C:/Program Files/Adobe/Acrobat DC'), install_source=WindowsPath('C:/Program Files/Common Files/Adobe/Acrobat/Setup/{AC76BA86-1033-1033-7760-BC15014EA700}'), modify_path='MsiExec.exe /I{AC76BA86-1033-1033-7760-BC15014EA700}', publisher='Adobe', uninstall_string='MsiExec.exe /I{AC76BA86-1033-1033-7760-BC15014EA700}'),\n",
       " InstalledApplication(name='Windows PC Health Check', version='3.2.2110.14001', install_date=datetime.date(2021, 10, 24), install_location='', install_source=WindowsPath('C:/Windows/SoftwareDistribution/Download/90dffa06140182945cb041528fd9cf8f/img'), modify_path='MsiExec.exe /X{B1E7D0FD-7CFE-4E0C-A5DA-0F676499DB91}', publisher='Microsoft Corporation', uninstall_string='MsiExec.exe /X{B1E7D0FD-7CFE-4E0C-A5DA-0F676499DB91}'),\n",
       " InstalledApplication(name='NVIDIA Graphics Driver 472.12', version='472.12', install_date=datetime.date(2021, 9, 26), install_location=WindowsPath('C:/Program Files/NVIDIA Corporation/Installer2/Display.Driver.{358B750A-4D16-405F-8BDD-D4AAB2AC9750}'), install_source=WindowsPath('C:/Program Files/NVIDIA Corporation/Installer2/Display.Driver.{358B750A-4D16-405F-8BDD-D4AAB2AC9750}'), modify_path='', publisher='NVIDIA Corporation', uninstall_string='\"C:\\\\Windows\\\\SysWOW64\\\\RunDll32.EXE\" \"C:\\\\Program Files\\\\NVIDIA Corporation\\\\Installer2\\\\InstallerCore\\\\NVI2.DLL\",UninstallPackage Display.Driver'),\n",
       " InstalledApplication(name='NVIDIA GeForce Experience 3.23.0.74', version='3.23.0.74', install_date=datetime.date(2021, 8, 8), install_location=WindowsPath('C:/Program Files/NVIDIA Corporation/Installer2/Display.GFExperience.{8218EC34-5162-43F0-9CD5-0A6D26D2755C}'), install_source=WindowsPath('C:/Program Files/NVIDIA Corporation/Installer2/Display.GFExperience.{8218EC34-5162-43F0-9CD5-0A6D26D2755C}'), modify_path='', publisher='NVIDIA Corporation', uninstall_string='\"C:\\\\Windows\\\\SysWOW64\\\\RunDll32.EXE\" \"C:\\\\Program Files\\\\NVIDIA Corporation\\\\Installer2\\\\InstallerCore\\\\NVI2.DLL\",UninstallPackage Display.GFExperience'),\n",
       " InstalledApplication(name='NVIDIA PhysX System Software 9.19.0218', version='9.19.0218', install_date=datetime.date(2021, 8, 8), install_location=WindowsPath('C:/Program Files (x86)/NVIDIA Corporation/PhysX'), install_source=WindowsPath('C:/Program Files/NVIDIA Corporation/Installer2/Display.PhysX.{CD5E0443-4206-43A9-A7E0-AADC276D1FA2}'), modify_path='', publisher='NVIDIA Corporation', uninstall_string='\"C:\\\\Windows\\\\SysWOW64\\\\RunDll32.EXE\" \"C:\\\\Program Files\\\\NVIDIA Corporation\\\\Installer2\\\\InstallerCore\\\\NVI2.DLL\",UninstallPackage Display.PhysX'),\n",
       " InstalledApplication(name='NVIDIA FrameView SDK 1.1.4923.29968894', version='1.1.4923.29968894', install_date=datetime.date(2021, 8, 8), install_location=WindowsPath('C:/Program Files/NVIDIA Corporation/FrameViewSDK'), install_source=WindowsPath('C:/Program Files/NVIDIA Corporation/Installer2/FrameViewSdk.{C92B7A5E-1F2D-476D-90FF-E70D4DA71A5B}'), modify_path='', publisher='NVIDIA Corporation', uninstall_string='\"C:\\\\Windows\\\\SysWOW64\\\\RunDll32.EXE\" \"C:\\\\Program Files\\\\NVIDIA Corporation\\\\Installer2\\\\InstallerCore\\\\NVI2.DLL\",UninstallPackage FrameViewSdk'),\n",
       " InstalledApplication(name='NVIDIA HD Audio Driver 1.3.38.60', version='1.3.38.60', install_date=datetime.date(2021, 9, 26), install_location=WindowsPath('C:/Program Files/NVIDIA Corporation/Installer2/HDAudio.Driver.{644775D1-B74C-4037-80EA-B567BE60BD1C}'), install_source=WindowsPath('C:/Program Files/NVIDIA Corporation/Installer2/HDAudio.Driver.{644775D1-B74C-4037-80EA-B567BE60BD1C}'), modify_path='', publisher='NVIDIA Corporation', uninstall_string='\"C:\\\\Windows\\\\SysWOW64\\\\RunDll32.EXE\" \"C:\\\\Program Files\\\\NVIDIA Corporation\\\\Installer2\\\\InstallerCore\\\\NVI2.DLL\",UninstallPackage HDAudio.Driver'),\n",
       " InstalledApplication(name='AURA lighting effect add-on x64', version='0.0.21', install_date=datetime.date(2022, 4, 3), install_location='', install_source=WindowsPath('C:/Program Files (x86)/ASUS/Update/Install/{39F28A1C-1F0E-4D59-BF88-A025B8628054}/unzip'), modify_path='MsiExec.exe /I{C5A4A164-4428-4931-B728-96EEF0FA3C44}', publisher='ASUS', uninstall_string='MsiExec.exe /I{C5A4A164-4428-4931-B728-96EEF0FA3C44}'),\n",
       " InstalledApplication(name='Microsoft SQL Server Compact 3.5 SP2 x64 ENU', version='3.5.8080.0', install_date=datetime.date(2021, 9, 26), install_location=WindowsPath('C:/Program Files/Microsoft SQL Server Compact Edition'), install_source=WindowsPath('C:/ProgramData/ASUS/RLSDownload/ArmouryCrateService/8_APP/9085/ArmouryCrateService/Intel'), modify_path='MsiExec.exe /I{D4AD39AD-091E-4D33-BB2B-59F6FCB8ADC3}', publisher='Microsoft Corporation', uninstall_string='MsiExec.exe /I{D4AD39AD-091E-4D33-BB2B-59F6FCB8ADC3}'),\n",
       " InstalledApplication(name='Brave', version='102.1.39.111', install_date=datetime.date(2022, 5, 25), install_location=WindowsPath('C:/Program Files/BraveSoftware/Brave-Browser/Application'), install_source=None, modify_path=None, publisher='Brave Software Inc', uninstall_string='\"C:\\\\Program Files\\\\BraveSoftware\\\\Brave-Browser\\\\Application\\\\102.1.39.111\\\\Installer\\\\setup.exe\" --uninstall --system-level'),\n",
       " InstalledApplication(name='Google Chrome', version='102.0.5005.63', install_date=datetime.date(2022, 6, 1), install_location=WindowsPath('C:/Program Files/Google/Chrome/Application'), install_source=None, modify_path=None, publisher='Google LLC', uninstall_string='\"C:\\\\Program Files\\\\Google\\\\Chrome\\\\Application\\\\102.0.5005.63\\\\Installer\\\\setup.exe\" --uninstall --channel=stable --system-level --verbose-logging'),\n",
       " InstalledApplication(name='MotoGP 21', version=None, install_date=None, install_location=WindowsPath('C:/gaymes/MotoGP 21'), install_source=None, modify_path=None, publisher=None, uninstall_string='C:\\\\gaymes\\\\MotoGP 21\\\\uninstall.bat'),\n",
       " InstalledApplication(name='Microsoft Edge', version='102.0.1245.30', install_date=datetime.date(2022, 6, 2), install_location=WindowsPath('C:/Program Files (x86)/Microsoft/Edge/Application'), install_source=None, modify_path='\"C:\\\\Program Files (x86)\\\\Microsoft\\\\EdgeUpdate\\\\MicrosoftEdgeUpdate.exe\" /install appguid={56EB18F8-B008-4CBD-B6D2-8C97FE7E9062}&appname=Microsoft%20Edge&needsadmin=true&repairtype=windowsonlinerepair /installsource windows', publisher='Microsoft Corporation', uninstall_string='\"C:\\\\Program Files (x86)\\\\Microsoft\\\\Edge\\\\Application\\\\102.0.1245.30\\\\Installer\\\\setup.exe\" --uninstall --msedge --channel=stable --system-level --verbose-logging'),\n",
       " InstalledApplication(name='Microsoft Edge Update', version='1.3.161.35', install_date=None, install_location=None, install_source=None, modify_path=None, publisher=None, uninstall_string=None),\n",
       " InstalledApplication(name='Microsoft Edge WebView2 Runtime', version='101.0.1210.53', install_date=datetime.date(2022, 5, 22), install_location=WindowsPath('C:/Program Files (x86)/Microsoft/EdgeWebView/Application'), install_source=None, modify_path='\"C:\\\\Program Files (x86)\\\\Microsoft\\\\EdgeUpdate\\\\MicrosoftEdgeUpdate.exe\" /install appguid={F3017226-FE2A-4295-8BDF-00C3A9A7E4C5}&appname=Microsoft%20Edge%20WebView&needsadmin=true&repairtype=windowsonlinerepair /installsource offline', publisher='Microsoft Corporation', uninstall_string='\"C:\\\\Program Files (x86)\\\\Microsoft\\\\EdgeWebView\\\\Application\\\\101.0.1210.53\\\\Installer\\\\setup.exe\" --uninstall --msedgewebview --system-level --verbose-logging'),\n",
       " InstalledApplication(name='Origin', version='10.5.112.50486', install_date=None, install_location=WindowsPath('C:/Program Files (x86)/Origin'), install_source=None, modify_path=None, publisher='Electronic Arts, Inc.', uninstall_string='C:\\\\Program Files (x86)\\\\Origin\\\\OriginUninstall.exe'),\n",
       " InstalledApplication(name='ProtonVPN', version='1.27.2', install_date=None, install_location=WindowsPath('C:/Program Files (x86)/Proton Technologies/ProtonVPN'), install_source=None, modify_path=None, publisher='Proton Technologies AG', uninstall_string='msiexec.exe /i {452898A5-72C6-4C7A-91A7-AD9DE65E8187} AI_UNINSTALLER_CTP=1'),\n",
       " InstalledApplication(name='Steam', version='2.10.91.91', install_date=None, install_location=None, install_source=None, modify_path=None, publisher='Valve Corporation', uninstall_string='C:\\\\Program Files (x86)\\\\Steam\\\\uninstall.exe'),\n",
       " InstalledApplication(name='WinRAR 5.91 (32-bit)', version='5.91.0', install_date=None, install_location=WindowsPath('C:/Program Files (x86)/WinRAR'), install_source=None, modify_path=None, publisher='win.rar GmbH', uninstall_string='C:\\\\Program Files (x86)\\\\WinRAR\\\\uninstall.exe'),\n",
       " InstalledApplication(name='Microsoft Visual C++ 2013 Redistributable (x64) - 12.0.30501', version='12.0.30501.0', install_date=None, install_location=None, install_source=None, modify_path='\"C:\\\\ProgramData\\\\Package Cache\\\\{050d4fc8-5d48-4b8f-8972-47c82c46020f}\\\\vcredist_x64.exe\" /modify', publisher='Microsoft Corporation', uninstall_string='\"C:\\\\ProgramData\\\\Package Cache\\\\{050d4fc8-5d48-4b8f-8972-47c82c46020f}\\\\vcredist_x64.exe\"  /uninstall'),\n",
       " InstalledApplication(name='GameSDK Service', version='1.0.0.4', install_date=None, install_location=None, install_source=None, modify_path='\"C:\\\\ProgramData\\\\Package Cache\\\\{1a192f34-128f-43ed-a83d-f998b9d5f646}\\\\GameSDK.exe\" /modify', publisher='ASUSTek COMPUTER INC.', uninstall_string='\"C:\\\\ProgramData\\\\Package Cache\\\\{1a192f34-128f-43ed-a83d-f998b9d5f646}\\\\GameSDK.exe\"  /uninstall'),\n",
       " InstalledApplication(name='AURA lighting effect add-on', version='0.0.21', install_date=datetime.date(2022, 4, 3), install_location='', install_source=WindowsPath('C:/Program Files (x86)/ASUS/Update/Install/{39F28A1C-1F0E-4D59-BF88-A025B8628054}/unzip'), modify_path='MsiExec.exe /I{1E2EA04B-FCA7-457E-B6F4-F33E1858E859}', publisher='ASUS', uninstall_string='MsiExec.exe /I{1E2EA04B-FCA7-457E-B6F4-F33E1858E859}'),\n",
       " InstalledApplication(name='ROG Live Service', version='1.4.5.0', install_date=datetime.date(2022, 4, 3), install_location='', install_source=WindowsPath('C:/Program Files (x86)/ASUS/Update/Install/{8D3646AB-BE11-4F7A-BF6F-328E06DCB0D3}/unzip/ROGLiveService'), modify_path='MsiExec.exe /I{2D87BFB6-C184-4A59-9BBE-3E20CE797631}', publisher='ASUSTek COMPUTER INC.', uninstall_string='MsiExec.exe /I{2D87BFB6-C184-4A59-9BBE-3E20CE797631}'),\n",
       " InstalledApplication(name='Microsoft Visual C++ 2012 Redistributable (x86) - 11.0.61030', version='11.0.61030.0', install_date=None, install_location=None, install_source=None, modify_path='\"C:\\\\ProgramData\\\\Package Cache\\\\{33d1fd90-4274-48a1-9bc1-97e33d9c2d6f}\\\\vcredist_x86.exe\" /modify', publisher='Microsoft Corporation', uninstall_string='\"C:\\\\ProgramData\\\\Package Cache\\\\{33d1fd90-4274-48a1-9bc1-97e33d9c2d6f}\\\\vcredist_x86.exe\"  /uninstall'),\n",
       " InstalledApplication(name='Microsoft SQL Server Compact 3.5 SP2 ENU', version='3.5.8080.0', install_date=datetime.date(2021, 9, 26), install_location=WindowsPath('C:/Program Files (x86)/Microsoft SQL Server Compact Edition'), install_source=WindowsPath('C:/ProgramData/ASUS/RLSDownload/ArmouryCrateService/8_APP/9085/ArmouryCrateService/Intel'), modify_path='MsiExec.exe /I{3A9FC03D-C685-4831-94CF-4EDFD3749497}', publisher='Microsoft Corporation', uninstall_string='MsiExec.exe /I{3A9FC03D-C685-4831-94CF-4EDFD3749497}'),\n",
       " InstalledApplication(name='Python Launcher', version='3.10.7581.0', install_date=datetime.date(2021, 10, 9), install_location='', install_source=WindowsPath('C:/ProgramData/Package Cache/{463B0974-B1E1-401E-8F59-B0F9F81258E4}v3.10.7581.0'), modify_path='MsiExec.exe /X{463B0974-B1E1-401E-8F59-B0F9F81258E4}', publisher='Python Software Foundation', uninstall_string='MsiExec.exe /X{463B0974-B1E1-401E-8F59-B0F9F81258E4}'),\n",
       " InstalledApplication(name='ProtonVPNTap', version='1.1.3', install_date=datetime.date(2022, 4, 25), install_location=WindowsPath('C:/Program Files (x86)/Proton Technologies/ProtonVPNTap'), install_source=WindowsPath('C:/Users/MOHAMM~1/AppData/Local/Temp/{5DA710E2-1B81-4675-BFC5-76BAF63AE1F6}/63AE1F6'), modify_path='MsiExec.exe /X{5DA710E2-1B81-4675-BFC5-76BAF63AE1F6}', publisher='Proton Technologies AG', uninstall_string='MsiExec.exe /X{5DA710E2-1B81-4675-BFC5-76BAF63AE1F6}'),\n",
       " InstalledApplication(name='FIFA 22', version=None, install_date=None, install_location=WindowsPath('D:/SteamLibrary/steamapps/common/FIFA 22'), install_source=None, modify_path=None, publisher=None, uninstall_string=None),\n",
       " InstalledApplication(name='Microsoft Save as PDF Add-in for 2007 Microsoft Office programs', version='12.0.4518.1014', install_date=datetime.date(2021, 8, 8), install_location='', install_source=WindowsPath('C:/Program Files (x86)/MSECache/ExPdf/1033'), modify_path='MsiExec.exe /X{90120000-00B0-0409-0000-0000000FF1CE}', publisher='Microsoft Corporation', uninstall_string='MsiExec.exe /X{90120000-00B0-0409-0000-0000000FF1CE}'),\n",
       " InstalledApplication(name='AURA Service', version='3.05.40', install_date=None, install_location=None, install_source=None, modify_path='\"C:\\\\ProgramData\\\\Package Cache\\\\{a1318319-c95b-48da-beb8-63ed6e4d809a}\\\\AuraServiceSetup.exe\" /modify', publisher='ASUSTeK Computer Inc.', uninstall_string='\"C:\\\\ProgramData\\\\Package Cache\\\\{a1318319-c95b-48da-beb8-63ed6e4d809a}\\\\AuraServiceSetup.exe\"  /uninstall'),\n",
       " InstalledApplication(name='Microsoft Visual C++ 2015-2019 Redistributable (x64) - 14.28.29334', version='14.28.29334.0', install_date=None, install_location=None, install_source=None, modify_path='\"C:\\\\ProgramData\\\\Package Cache\\\\{a9cfe9c7-e54f-46cd-9c5c-542ff8e3e8c4}\\\\VC_redist.x64.exe\" /modify', publisher='Microsoft Corporation', uninstall_string='\"C:\\\\ProgramData\\\\Package Cache\\\\{a9cfe9c7-e54f-46cd-9c5c-542ff8e3e8c4}\\\\VC_redist.x64.exe\"  /uninstall'),\n",
       " InstalledApplication(name='Microsoft Visual C++ 2015-2019 Redistributable (x86) - 14.28.29334', version='14.28.29334.0', install_date=None, install_location=None, install_source=None, modify_path='\"C:\\\\ProgramData\\\\Package Cache\\\\{b2d0f752-adc5-496e-8f70-8669de01f746}\\\\VC_redist.x86.exe\" /modify', publisher='Microsoft Corporation', uninstall_string='\"C:\\\\ProgramData\\\\Package Cache\\\\{b2d0f752-adc5-496e-8f70-8669de01f746}\\\\VC_redist.x86.exe\"  /uninstall'),\n",
       " InstalledApplication(name='IFAS App version 1.15', version='1.15', install_date=datetime.date(2022, 2, 6), install_location=WindowsPath('C:/Program Files (x86)/IFAS App'), install_source=None, modify_path=None, publisher='IFAS', uninstall_string='\"C:\\\\Program Files (x86)\\\\IFAS App\\\\unins000.exe\"'),\n",
       " InstalledApplication(name='ProtonVPNTun', version='0.13.0', install_date=datetime.date(2022, 4, 25), install_location=WindowsPath('C:/Program Files (x86)/Proton Technologies/ProtonVPNTun'), install_source=WindowsPath('C:/Users/MOHAMM~1/AppData/Local/Temp/{C953D354-0C14-4CB5-AB42-0A9E40F55857}/0F55857'), modify_path='MsiExec.exe /X{C953D354-0C14-4CB5-AB42-0A9E40F55857}', publisher='Proton Technologies AG', uninstall_string='MsiExec.exe /X{C953D354-0C14-4CB5-AB42-0A9E40F55857}'),\n",
       " InstalledApplication(name='Microsoft Visual C++ 2012 Redistributable (x64) - 11.0.61030', version='11.0.61030.0', install_date=None, install_location=None, install_source=None, modify_path='\"C:\\\\ProgramData\\\\Package Cache\\\\{ca67548a-5ebe-413a-b50c-4b9ceb6d66c6}\\\\vcredist_x64.exe\" /modify', publisher='Microsoft Corporation', uninstall_string='\"C:\\\\ProgramData\\\\Package Cache\\\\{ca67548a-5ebe-413a-b50c-4b9ceb6d66c6}\\\\vcredist_x64.exe\"  /uninstall'),\n",
       " InstalledApplication(name='Texmaker 5.1.2 (64-bit)', version='5.1.2.0', install_date=datetime.date(2021, 10, 12), install_location='', install_source=WindowsPath('C:/Users/Mohammad Irfan/Downloads'), modify_path='MsiExec.exe /I{D023FA0B-FFA9-4A76-9135-025A8A45AEBC}', publisher='Texmaker', uninstall_string='MsiExec.exe /I{D023FA0B-FFA9-4A76-9135-025A8A45AEBC}'),\n",
       " InstalledApplication(name='ASUS Framework Service', version='2.1.2.2', install_date=None, install_location=None, install_source=None, modify_path='\"C:\\\\ProgramData\\\\Package Cache\\\\{e0ea7709-d842-438e-a773-12f05eeb1939}\\\\FrameworkServiceSetup.exe\" /modify', publisher='ASUSTek COMPUTER INC.', uninstall_string='\"C:\\\\ProgramData\\\\Package Cache\\\\{e0ea7709-d842-438e-a773-12f05eeb1939}\\\\FrameworkServiceSetup.exe\"  /uninstall'),\n",
       " InstalledApplication(name='Microsoft Visual C++ 2010  x86 Redistributable - 10.0.40219', version='10.0.40219', install_date=datetime.date(2021, 12, 13), install_location='', install_source=WindowsPath('d:/640574deb5daf9b6978b3fb8f9'), modify_path='MsiExec.exe /X{F0C3E5D1-1ADE-321E-8167-68EF0DE699A5}', publisher='Microsoft Corporation', uninstall_string='MsiExec.exe /X{F0C3E5D1-1ADE-321E-8167-68EF0DE699A5}'),\n",
       " InstalledApplication(name='Microsoft Visual C++ 2013 Redistributable (x86) - 12.0.30501', version='12.0.30501.0', install_date=None, install_location=None, install_source=None, modify_path='\"C:\\\\ProgramData\\\\Package Cache\\\\{f65db027-aff3-4070-886a-0d87064aabb1}\\\\vcredist_x86.exe\" /modify', publisher='Microsoft Corporation', uninstall_string='\"C:\\\\ProgramData\\\\Package Cache\\\\{f65db027-aff3-4070-886a-0d87064aabb1}\\\\vcredist_x86.exe\"  /uninstall')]"
      ]
     },
     "execution_count": 2,
     "metadata": {},
     "output_type": "execute_result"
    }
   ],
   "source": [
    "#q12 : Write a code to check a perticular installation in your system\n",
    "\n",
    "import winapps\n",
    "\n",
    "list(winapps.list_installed())"
   ]
  },
  {
   "cell_type": "code",
   "execution_count": null,
   "id": "646019ed",
   "metadata": {},
   "outputs": [],
   "source": [
    "!pip install pyttsx3"
   ]
  },
  {
   "cell_type": "code",
   "execution_count": null,
   "id": "85f0a22b",
   "metadata": {},
   "outputs": [],
   "source": [
    "# q13: Write a code to convert any text in to voice\n",
    "!pip install pyttsx3\n",
    "\n",
    "import pyttsx3\n",
    "\n",
    "pyt_obj = pyttsx3.init()\n",
    "\n",
    "pyt_obj.say(\"This is the text which I want to convert to speech.\")\n",
    "\n",
    "pyt_obj.runAndWait()"
   ]
  },
  {
   "cell_type": "code",
   "execution_count": null,
   "id": "794c068a",
   "metadata": {},
   "outputs": [],
   "source": [
    "import gtts\n",
    "from playsound import playsound\n",
    "def txt_to_voice(str1):\n",
    "    tts=gtts.gTTS(str1)\n",
    "    tts.save(\"Hello.mp3\")\n",
    "    playsound(\"Hello.mp3\")\n",
    "            \n",
    "Text=input(\"Enter the text to convert to voice: \")\n",
    "txt_to_voice(Text)"
   ]
  },
  {
   "cell_type": "code",
   "execution_count": null,
   "id": "8e51a789",
   "metadata": {},
   "outputs": [],
   "source": [
    "#q14 : you have to write a fun which will take string and return a len of it without using a inbuilt fun len\n",
    "\n",
    "def len_str(string):\n",
    "    counter = 0\n",
    "    for i in s:\n",
    "        counter = counter + 1\n",
    "    return counter\n",
    "    "
   ]
  },
  {
   "cell_type": "code",
   "execution_count": null,
   "id": "1bf2687e",
   "metadata": {},
   "outputs": [],
   "source": [
    "len_str(\"neuron sfsfs gsf gsgsgsg gsfgst ytut ui iyet eyggdh uyufyuw uusyur\")"
   ]
  },
  {
   "cell_type": "code",
   "execution_count": null,
   "id": "ba74e425",
   "metadata": {},
   "outputs": [],
   "source": [
    "#q16 : Write a fun which will take input as a dict and give me out as a list of all the values even in case of 2 level nesting it should work\n",
    "\n",
    "#d = {\"key1\": 434, \"key2\": \"value1\", \"key3\":{\"key4\":\"value2\",35:66},(4,5):[4,6,78]}\n",
    "\n",
    "def d_list(d):\n",
    "    l1=[]\n",
    "    for i in d.items():\n",
    "        k1 = i[0]\n",
    "        k2 = i[1]\n",
    "        l1.append(k1)\n",
    "        if type(k2) is not dict:\n",
    "            l1.append(k2)\n",
    "        \n",
    "        else:\n",
    "            for j in k2.items():\n",
    "                k3 = j[0]\n",
    "                k4 = j[1]\n",
    "                l1.append(k3)\n",
    "                l1.append(k4)\n",
    "    return l1"
   ]
  },
  {
   "cell_type": "code",
   "execution_count": null,
   "id": "1ad4c7f2",
   "metadata": {},
   "outputs": [],
   "source": [
    "e = {\"key1\": 434, \"key2\": \"value1\", \"key3\":{\"key4\":\"value2\",35:66},(4,5):[4,6,78]}\n",
    "d_list(e)"
   ]
  },
  {
   "cell_type": "code",
   "execution_count": null,
   "id": "de5d258d",
   "metadata": {},
   "outputs": [],
   "source": [
    "#q17 : write a function whihc will take multiple list as a input and give me concatnation of all the element as and output\n",
    "\n",
    "def test(*args):\n",
    "    l1=[]\n",
    "    for i in args:\n",
    "        for j in i:\n",
    "            l1.append(j)\n",
    "    return l1"
   ]
  },
  {
   "cell_type": "code",
   "execution_count": null,
   "id": "4a23678e",
   "metadata": {},
   "outputs": [],
   "source": [
    "test([2,3,4,5],[6,7,8,9],[10,11,12,13])"
   ]
  },
  {
   "cell_type": "code",
   "execution_count": null,
   "id": "f6ac47c9",
   "metadata": {},
   "outputs": [],
   "source": [
    "#q19 : write a function whihc will be able to read a image file and show it to you .\n",
    "\n",
    "f = open(\"C:\\\\Users\\\\Mohammad Irfan\\\\Desktop\\\\image_sample.jpg\",\"rb\")\n",
    "\n",
    "new_file = open(\"C:\\\\Users\\\\Mohammad Irfan\\\\Desktop\\\\new_file.jpg\",\"wb\")\n",
    "\n",
    "for line in f:\n",
    "    new_file.write(line)"
   ]
  },
  {
   "cell_type": "code",
   "execution_count": null,
   "id": "d1eeb6f8",
   "metadata": {},
   "outputs": [],
   "source": [
    "#q20 : write a function by which you will be able to append two PDF files . \n",
    "\n",
    "!pip install PyPDF2"
   ]
  },
  {
   "cell_type": "code",
   "execution_count": null,
   "id": "73a0296a",
   "metadata": {},
   "outputs": [],
   "source": [
    "from PyPDF2 import PdfFileMerger\n",
    "\n",
    "files = ['one.pdf','two.pdf']\n",
    "\n",
    "merge = PdfFileMerger()\n",
    "\n",
    "for i in files:\n",
    "    merge.append(i)\n",
    "\n",
    "merge.write('output.pdf')\n",
    "merge.close()"
   ]
  },
  {
   "cell_type": "code",
   "execution_count": null,
   "id": "f901f7f9",
   "metadata": {},
   "outputs": [],
   "source": [
    "#q21 : write a function which can help you to filter only word file from a directory .\n",
    "\n",
    "import os\n",
    "\n",
    "target = \"C:\\\\Users\\\\Mohammad Irfan\\\\Desktop\"\n",
    "\n",
    "for i in os.listdir(target):\n",
    "    if i.endswith(\".docx\"):\n",
    "        print(i)"
   ]
  },
  {
   "cell_type": "code",
   "execution_count": null,
   "id": "f9cfb67d",
   "metadata": {},
   "outputs": [],
   "source": [
    "#q24 : Write a function which will whould return list of all the file name from a directory . \n",
    "\n",
    "import os\n",
    "\n",
    "target_dir = \"C:\\\\Users\\\\Mohammad Irfan\\\\Desktop\"\n",
    "\n",
    "for i in os.listdir(target_dir):\n",
    "    print(i)"
   ]
  },
  {
   "cell_type": "code",
   "execution_count": 8,
   "id": "5382784a",
   "metadata": {},
   "outputs": [
    {
     "name": "stdout",
     "output_type": "stream",
     "text": [
      "(2, 3) 0\n",
      "(2, 3) 1\n",
      "{5, 6} 0\n",
      "{5, 6} 1\n",
      "[44, 55] 0\n",
      "[44, 55] 1\n",
      "None\n"
     ]
    }
   ],
   "source": [
    "#*q15 :write a fun which will be able to print an index of all premitive element which you will pass \n",
    "\n",
    "s = [(2,3),{5,6},\"ineuron\",{\"key1\":45,\"key2\":78},99,[44,55]]\n",
    "\n",
    "for i in s:\n",
    "    if type(i) == set or type(i) == list or type(i) == tuple:\n",
    "        j=0\n",
    "        while j < len(i):\n",
    "            k = print(i,j)\n",
    "            j += 1\n",
    "print(k)\n",
    "        "
   ]
  },
  {
   "cell_type": "code",
   "execution_count": 10,
   "id": "4fa6cc3f",
   "metadata": {},
   "outputs": [
    {
     "name": "stdout",
     "output_type": "stream",
     "text": [
      "(0, 4)\n",
      "(1, 5)\n",
      "(2, 6)\n",
      "(3, 7)\n"
     ]
    }
   ],
   "source": [
    "s={4,5,6,7}\n",
    "\n",
    "for j in enumerate(s):\n",
    "    print(j)"
   ]
  },
  {
   "cell_type": "code",
   "execution_count": 13,
   "id": "7356c27f",
   "metadata": {},
   "outputs": [
    {
     "name": "stdout",
     "output_type": "stream",
     "text": [
      "index is key1 value is  45\n",
      "index is key2 value is  78\n"
     ]
    }
   ],
   "source": [
    "d = {\"key1\":45,\"key2\":78}\n",
    "\n",
    "for i in d.items():\n",
    "    print(\"index is\", i[0],\"value is \",i[1])\n",
    "    "
   ]
  },
  {
   "cell_type": "code",
   "execution_count": 33,
   "id": "41365277",
   "metadata": {},
   "outputs": [],
   "source": [
    "#s = [(2,3),{5,6},\"ineuron\",{\"key1\":45,\"key2\":78},99,[44,55]]\n",
    "\n",
    "def element(s):\n",
    "    e = int(input(\"Type the element for which you want index: \"))\n",
    "    for i in s:\n",
    "        if type(i) == set or type(i) == list or type(i) == tuple:\n",
    "            for j in enumerate(i):\n",
    "                if j[1] == e:\n",
    "                    print(\"element is \",j[1],\"index is\",j[0])\n",
    "        if type(i) == dict:\n",
    "            for j in i.items():\n",
    "                if j[1] == e:\n",
    "                    print(\"element is \",j[1],\"index is\", j[0])\n",
    "        "
   ]
  },
  {
   "cell_type": "code",
   "execution_count": 40,
   "id": "e731e0dd",
   "metadata": {},
   "outputs": [
    {
     "name": "stdout",
     "output_type": "stream",
     "text": [
      "Type the element for which you want index: 45\n",
      "element is  45 index is key1\n"
     ]
    }
   ],
   "source": [
    "element([(2,3),{5,6},\"ineuron\",{\"key1\":45,\"key2\":78},99,[44,55]])"
   ]
  },
  {
   "cell_type": "code",
   "execution_count": 75,
   "id": "de8becb5",
   "metadata": {},
   "outputs": [
    {
     "name": "stdout",
     "output_type": "stream",
     "text": [
      "Type the element for which you want index: 6\n",
      "<class 'str'>\n",
      "['ko', 'no', 5, 6]\n",
      "ko <class 'str'> <class 'str'>\n",
      "no <class 'str'> <class 'str'>\n",
      "5 <class 'int'> <class 'str'>\n"
     ]
    }
   ],
   "source": [
    "s = [(2,3),{5,\"no\",6,\"ko\"},\"ineuron\",{\"key1\":45,\"key2\":78},99,[44,55,\"hi\"]]\n",
    "\n",
    "e = input(\"Type the element for which you want index: \")\n",
    "print(type(e))\n",
    "\n",
    "for i in s:\n",
    "    if type(i) == set:\n",
    "        l = list(i)\n",
    "        print(l)\n",
    "        for j in range(len(l)-1):\n",
    "            print(l[j],type(l[j]),type(e))\n",
    "            if l[j] == e:\n",
    "                if type(l[j]) == str:\n",
    "                    print(\"element is \",l[j],\"and index is\",j)\n",
    "                elif type(l[j]) == int:\n",
    "                    print(l[j],e)\n",
    "                    l[j] = int(e)\n",
    "                    print(\"element is \",l[j],\"index is\",j)\n",
    "                    \n",
    "    if type(i) == list or type(i) == tuple:\n",
    "        for j in enumerate(i):\n",
    "            if j[1] == e:\n",
    "                if type(j[1]) == str:\n",
    "                    print(\"element is \",j[1],\"index is\",j[0])\n",
    "                elif type(j[1]) == int:\n",
    "                    j[1] = int(e)\n",
    "                    print(\"element is \",j[1],\"index is\",j[0])\n",
    "                    \n",
    "    if type(i) == dict:\n",
    "        for j in i.items():\n",
    "            if j[1] == e:\n",
    "                print(\"element is \",j[1],\"index is\", j[0])"
   ]
  },
  {
   "cell_type": "code",
   "execution_count": null,
   "id": "22e2bc38",
   "metadata": {},
   "outputs": [],
   "source": []
  }
 ],
 "metadata": {
  "kernelspec": {
   "display_name": "Python 3",
   "language": "python",
   "name": "python3"
  },
  "language_info": {
   "codemirror_mode": {
    "name": "ipython",
    "version": 3
   },
   "file_extension": ".py",
   "mimetype": "text/x-python",
   "name": "python",
   "nbconvert_exporter": "python",
   "pygments_lexer": "ipython3",
   "version": "3.8.8"
  }
 },
 "nbformat": 4,
 "nbformat_minor": 5
}
