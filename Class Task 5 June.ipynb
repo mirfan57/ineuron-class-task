{
 "cells": [
  {
   "cell_type": "code",
   "execution_count": null,
   "id": "14655a03",
   "metadata": {},
   "outputs": [],
   "source": [
    "Todays task : 5th June 2022\n",
    "    q1 : Try to print a prime number in between 1 to 1000\n",
    "    q2 : Try to write a function which  is equivalent  to print function in python\n",
    "    q3 : Try to write a function which is a replica of list append , extend and pop function \n",
    "    q4 : Try to write a lambda function which can return a concatination of all the string that we will pass\n",
    "    q5 : Try to write a lambda function which can return list of square of all the data between 1-100 \n",
    "    q6 : Try to write a 10 Different different example of lambda function with a choice of your taks \n",
    "    q7 : Try to wwrite a funtion whihc can perform a read operation from .txt file \n",
    "        \n",
    "        shivan@ineuron.ai\n",
    "        sudhashu@ineuron.ai"
   ]
  },
  {
   "cell_type": "code",
   "execution_count": null,
   "id": "4b9314ba",
   "metadata": {},
   "outputs": [],
   "source": [
    "#  q1 : Try to print a prime number in between 1 to 1000\n",
    "\n",
    "for i in range(1,1001):\n",
    "    count = 0\n",
    "    for j in range(1,i+1):\n",
    "        if i%j == 0:\n",
    "            count += 1\n",
    "    if count == 2:\n",
    "        print(i)"
   ]
  },
  {
   "cell_type": "code",
   "execution_count": null,
   "id": "b82af317",
   "metadata": {},
   "outputs": [],
   "source": [
    "# q2 : Try to write a function which  is equivalent  to print function in python\n",
    "\n",
    "def pri_fun(*word):\n",
    "    l=[]\n",
    "    for i in word:\n",
    "        l.append(i)\n",
    "    data = ' '.join(l)\n",
    "    return data"
   ]
  },
  {
   "cell_type": "code",
   "execution_count": null,
   "id": "0c70418f",
   "metadata": {},
   "outputs": [],
   "source": [
    "#q3 : Try to write a function which is a replica of list append , extend and pop function\n",
    "\n",
    "def app(p):\n",
    "    '''Replica of append function'''\n",
    "    l = [4,5,6]\n",
    "    l1=[p]\n",
    "    l = l+l1\n",
    "    return l \n",
    "app(9)"
   ]
  },
  {
   "cell_type": "code",
   "execution_count": null,
   "id": "1afa82f7",
   "metadata": {},
   "outputs": [],
   "source": [
    "def ext(p):\n",
    "    '''Replica of extend function'''\n",
    "    l=[4,5,6]\n",
    "    for i in p:\n",
    "        l1=[i]\n",
    "        l=l+l1\n",
    "    return l\n",
    "ext([7,8])"
   ]
  },
  {
   "cell_type": "code",
   "execution_count": null,
   "id": "95c7f2a4",
   "metadata": {},
   "outputs": [],
   "source": [
    "def fpop(p):\n",
    "    '''Replica of pop function'''\n",
    "    l=[4,5,6]\n",
    "    del l[p]\n",
    "    return l\n",
    "fpop(2)"
   ]
  },
  {
   "cell_type": "code",
   "execution_count": null,
   "id": "a5011534",
   "metadata": {},
   "outputs": [],
   "source": [
    "# q4 : Try to write a lambda function which can return a concatination of all the string that we will pass\n",
    "\n",
    "from functools import reduce\n",
    "\n",
    "data = ['neuron', ' data',' small', ' big',' fdf',' fsfs',' yrr']\n",
    "\n",
    "result = reduce(lambda x,y: x+y, data)\n",
    "\n",
    "print(result)"
   ]
  },
  {
   "cell_type": "code",
   "execution_count": null,
   "id": "dbf27b77",
   "metadata": {},
   "outputs": [],
   "source": [
    "# q5 : Try to write a lambda function which can return list of square of all the data between 1-100\n",
    "\n",
    "l1=[]\n",
    "for i in range(1,101):\n",
    "    l1.append(i)\n",
    "\n",
    "sq = list(map(lambda x: x**2, l1))\n",
    "print(sq)"
   ]
  },
  {
   "cell_type": "code",
   "execution_count": null,
   "id": "1dd8f11d",
   "metadata": {},
   "outputs": [],
   "source": [
    "# q6 : Try to write a 10 Different different example of lambda function with a choice of your tasks \n",
    "\n",
    "#Ex1: Print square of number\n",
    "\n",
    "square = lambda x : x **2\n",
    "square(10)"
   ]
  },
  {
   "cell_type": "code",
   "execution_count": null,
   "id": "f42b443b",
   "metadata": {},
   "outputs": [],
   "source": [
    "# Ex2: Print remainder \n",
    "\n",
    "mod = lambda x : x % 5\n",
    "mod(9)"
   ]
  },
  {
   "cell_type": "code",
   "execution_count": null,
   "id": "3a5e431e",
   "metadata": {},
   "outputs": [],
   "source": [
    "# Ex3: Print addition of two numbers\n",
    "\n",
    "add = lambda x,y: x+y\n",
    "add(5,7)"
   ]
  },
  {
   "cell_type": "code",
   "execution_count": null,
   "id": "cf002e48",
   "metadata": {},
   "outputs": [],
   "source": [
    "#Ex4: Maximum of two numbers\n",
    "\n",
    "max = lambda x,y: x if x>y else y\n",
    "max(6,9)"
   ]
  },
  {
   "cell_type": "code",
   "execution_count": null,
   "id": "1d453618",
   "metadata": {},
   "outputs": [],
   "source": [
    "#Ex5: Odd or Even\n",
    "\n",
    "odd_even = lambda x: (x%2 and 'odd' or 'even')\n",
    "odd_even(42)"
   ]
  },
  {
   "cell_type": "code",
   "execution_count": null,
   "id": "5c14b901",
   "metadata": {},
   "outputs": [],
   "source": [
    "# Ex6: Capitalize the first letter of given words\n",
    "\n",
    "list11 = ['data', 'science', 'course']\n",
    "\n",
    "cap = list(map(lambda f: f.capitalize(), list11))\n",
    "print(cap)"
   ]
  },
  {
   "cell_type": "code",
   "execution_count": null,
   "id": "e92f434c",
   "metadata": {},
   "outputs": [],
   "source": [
    "#Ex7: Cube of list of numbers\n",
    "\n",
    "list1=[4,5,6]\n",
    "\n",
    "sqr = list(map(lambda x : x**3, list1)) \n",
    "print(sqr)"
   ]
  },
  {
   "cell_type": "code",
   "execution_count": null,
   "id": "2522f210",
   "metadata": {},
   "outputs": [],
   "source": [
    "#Ex 8: Extract even numbers from the list\n",
    "\n",
    "list2 = [4,65,78,43,99,204]\n",
    "\n",
    "even = list(filter(lambda x: x % 2 == 0, list2))\n",
    "print(even)"
   ]
  },
  {
   "cell_type": "code",
   "execution_count": null,
   "id": "b87110c3",
   "metadata": {},
   "outputs": [],
   "source": [
    "# Ex9: Extract odd numbers from 1-20\n",
    "\n",
    "odd = list(filter(lambda x : x % 2 != 0, range(21)))\n",
    "print(odd)"
   ]
  },
  {
   "cell_type": "code",
   "execution_count": null,
   "id": "6c100823",
   "metadata": {},
   "outputs": [],
   "source": [
    "#Ex 10: Multiplication of given list of numbers\n",
    "list3 = [3,5,4,1]\n",
    "\n",
    "num = reduce(lambda item1,item2 : item1 * item2, list3)\n",
    "print(num)"
   ]
  },
  {
   "cell_type": "code",
   "execution_count": null,
   "id": "28316145",
   "metadata": {},
   "outputs": [],
   "source": [
    "# q7 : Try to wwrite a funtion whihc can perform a read operation from .txt file \n",
    "\n",
    "def read_txt(filename):\n",
    "    with open(filename) as f:\n",
    "        for line in f:\n",
    "            print(line)"
   ]
  }
 ],
 "metadata": {
  "kernelspec": {
   "display_name": "Python 3",
   "language": "python",
   "name": "python3"
  },
  "language_info": {
   "codemirror_mode": {
    "name": "ipython",
    "version": 3
   },
   "file_extension": ".py",
   "mimetype": "text/x-python",
   "name": "python",
   "nbconvert_exporter": "python",
   "pygments_lexer": "ipython3",
   "version": "3.8.8"
  }
 },
 "nbformat": 4,
 "nbformat_minor": 5
}
