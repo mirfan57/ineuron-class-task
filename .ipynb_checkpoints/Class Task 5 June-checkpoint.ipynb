{
 "cells": [
  {
   "cell_type": "code",
   "execution_count": null,
   "id": "14655a03",
   "metadata": {},
   "outputs": [],
   "source": [
    "Todays task : 5th June 2022\n",
    "    q1 : Try to print a prime number in between 1 to 1000\n",
    "    q2 : Try to write a function which  is equivalent  to print function in python\n",
    "    q3 : Try to write a function which is a replica of list append , extend and pop function \n",
    "    q4 : Try to write a lambda function which can return a concatination of all the string that we will pass\n",
    "    q5 : Try to write a lambda function which can return list of square of all the data between 1-100 \n",
    "    q6 : Try to write a 10 Different different example of lambda function with a choice of your taks \n",
    "    q7 : Try to wwrite a funtion whihc can perform a read operation from .txt file \n",
    "        \n",
    "        shivan@ineuron.ai\n",
    "        sudhashu@ineuron.ai"
   ]
  },
  {
   "cell_type": "code",
   "execution_count": 1,
   "id": "4b9314ba",
   "metadata": {},
   "outputs": [
    {
     "name": "stdout",
     "output_type": "stream",
     "text": [
      "2\n",
      "3\n",
      "5\n",
      "7\n",
      "11\n",
      "13\n",
      "17\n",
      "19\n",
      "23\n",
      "29\n",
      "31\n",
      "37\n",
      "41\n",
      "43\n",
      "47\n",
      "53\n",
      "59\n",
      "61\n",
      "67\n",
      "71\n",
      "73\n",
      "79\n",
      "83\n",
      "89\n",
      "97\n",
      "101\n",
      "103\n",
      "107\n",
      "109\n",
      "113\n",
      "127\n",
      "131\n",
      "137\n",
      "139\n",
      "149\n",
      "151\n",
      "157\n",
      "163\n",
      "167\n",
      "173\n",
      "179\n",
      "181\n",
      "191\n",
      "193\n",
      "197\n",
      "199\n",
      "211\n",
      "223\n",
      "227\n",
      "229\n",
      "233\n",
      "239\n",
      "241\n",
      "251\n",
      "257\n",
      "263\n",
      "269\n",
      "271\n",
      "277\n",
      "281\n",
      "283\n",
      "293\n",
      "307\n",
      "311\n",
      "313\n",
      "317\n",
      "331\n",
      "337\n",
      "347\n",
      "349\n",
      "353\n",
      "359\n",
      "367\n",
      "373\n",
      "379\n",
      "383\n",
      "389\n",
      "397\n",
      "401\n",
      "409\n",
      "419\n",
      "421\n",
      "431\n",
      "433\n",
      "439\n",
      "443\n",
      "449\n",
      "457\n",
      "461\n",
      "463\n",
      "467\n",
      "479\n",
      "487\n",
      "491\n",
      "499\n",
      "503\n",
      "509\n",
      "521\n",
      "523\n",
      "541\n",
      "547\n",
      "557\n",
      "563\n",
      "569\n",
      "571\n",
      "577\n",
      "587\n",
      "593\n",
      "599\n",
      "601\n",
      "607\n",
      "613\n",
      "617\n",
      "619\n",
      "631\n",
      "641\n",
      "643\n",
      "647\n",
      "653\n",
      "659\n",
      "661\n",
      "673\n",
      "677\n",
      "683\n",
      "691\n",
      "701\n",
      "709\n",
      "719\n",
      "727\n",
      "733\n",
      "739\n",
      "743\n",
      "751\n",
      "757\n",
      "761\n",
      "769\n",
      "773\n",
      "787\n",
      "797\n",
      "809\n",
      "811\n",
      "821\n",
      "823\n",
      "827\n",
      "829\n",
      "839\n",
      "853\n",
      "857\n",
      "859\n",
      "863\n",
      "877\n",
      "881\n",
      "883\n",
      "887\n",
      "907\n",
      "911\n",
      "919\n",
      "929\n",
      "937\n",
      "941\n",
      "947\n",
      "953\n",
      "967\n",
      "971\n",
      "977\n",
      "983\n",
      "991\n",
      "997\n"
     ]
    }
   ],
   "source": [
    "#  q1 : Try to print a prime number in between 1 to 1000\n",
    "\n",
    "for i in range(1,1001):\n",
    "    count = 0\n",
    "    for j in range(1,i+1):\n",
    "        if i%j == 0:\n",
    "            count += 1\n",
    "    if count == 2:\n",
    "        print(i)"
   ]
  },
  {
   "cell_type": "code",
   "execution_count": 2,
   "id": "b82af317",
   "metadata": {},
   "outputs": [],
   "source": [
    "# q2 : Try to write a function which  is equivalent  to print function in python\n",
    "\n",
    "def pri_fun(*word):\n",
    "    l=[]\n",
    "    for i in word:\n",
    "        l.append(i)\n",
    "    data = ' '.join(l)\n",
    "    return data"
   ]
  },
  {
   "cell_type": "code",
   "execution_count": 3,
   "id": "0c70418f",
   "metadata": {},
   "outputs": [
    {
     "data": {
      "text/plain": [
       "[4, 5, 6, 9]"
      ]
     },
     "execution_count": 3,
     "metadata": {},
     "output_type": "execute_result"
    }
   ],
   "source": [
    "#q3 : Try to write a function which is a replica of list append , extend and pop function\n",
    "\n",
    "def app(p):\n",
    "    '''Replica of append function'''\n",
    "    l = [4,5,6]\n",
    "    l1=[p]\n",
    "    l = l+l1\n",
    "    return l \n",
    "app(9)"
   ]
  },
  {
   "cell_type": "code",
   "execution_count": 4,
   "id": "1afa82f7",
   "metadata": {},
   "outputs": [
    {
     "data": {
      "text/plain": [
       "[4, 5, 6, 7, 8]"
      ]
     },
     "execution_count": 4,
     "metadata": {},
     "output_type": "execute_result"
    }
   ],
   "source": [
    "def ext(p):\n",
    "    '''Replica of extend function'''\n",
    "    l=[4,5,6]\n",
    "    for i in p:\n",
    "        l1=[i]\n",
    "        l=l+l1\n",
    "    return l\n",
    "ext([7,8])"
   ]
  },
  {
   "cell_type": "code",
   "execution_count": 5,
   "id": "95c7f2a4",
   "metadata": {},
   "outputs": [
    {
     "data": {
      "text/plain": [
       "[4, 5]"
      ]
     },
     "execution_count": 5,
     "metadata": {},
     "output_type": "execute_result"
    }
   ],
   "source": [
    "def fpop(p):\n",
    "    '''Replica of pop function'''\n",
    "    l=[4,5,6]\n",
    "    del l[p]\n",
    "    return l\n",
    "fpop(2)"
   ]
  },
  {
   "cell_type": "code",
   "execution_count": 6,
   "id": "a5011534",
   "metadata": {},
   "outputs": [
    {
     "name": "stdout",
     "output_type": "stream",
     "text": [
      "neuron data small big fdf fsfs yrr\n"
     ]
    }
   ],
   "source": [
    "# q4 : Try to write a lambda function which can return a concatination of all the string that we will pass\n",
    "\n",
    "from functools import reduce\n",
    "\n",
    "data = ['neuron', ' data',' small', ' big',' fdf',' fsfs',' yrr']\n",
    "\n",
    "result = reduce(lambda x,y: x+y, data)\n",
    "\n",
    "print(result)"
   ]
  },
  {
   "cell_type": "code",
   "execution_count": 7,
   "id": "dbf27b77",
   "metadata": {},
   "outputs": [
    {
     "name": "stdout",
     "output_type": "stream",
     "text": [
      "[1, 4, 9, 16, 25, 36, 49, 64, 81, 100, 121, 144, 169, 196, 225, 256, 289, 324, 361, 400, 441, 484, 529, 576, 625, 676, 729, 784, 841, 900, 961, 1024, 1089, 1156, 1225, 1296, 1369, 1444, 1521, 1600, 1681, 1764, 1849, 1936, 2025, 2116, 2209, 2304, 2401, 2500, 2601, 2704, 2809, 2916, 3025, 3136, 3249, 3364, 3481, 3600, 3721, 3844, 3969, 4096, 4225, 4356, 4489, 4624, 4761, 4900, 5041, 5184, 5329, 5476, 5625, 5776, 5929, 6084, 6241, 6400, 6561, 6724, 6889, 7056, 7225, 7396, 7569, 7744, 7921, 8100, 8281, 8464, 8649, 8836, 9025, 9216, 9409, 9604, 9801, 10000]\n"
     ]
    }
   ],
   "source": [
    "# q5 : Try to write a lambda function which can return list of square of all the data between 1-100\n",
    "\n",
    "l1=[]\n",
    "for i in range(1,101):\n",
    "    l1.append(i)\n",
    "\n",
    "sq = list(map(lambda x: x**2, l1))\n",
    "print(sq)"
   ]
  },
  {
   "cell_type": "code",
   "execution_count": 8,
   "id": "1dd8f11d",
   "metadata": {},
   "outputs": [
    {
     "data": {
      "text/plain": [
       "100"
      ]
     },
     "execution_count": 8,
     "metadata": {},
     "output_type": "execute_result"
    }
   ],
   "source": [
    "# q6 : Try to write a 10 Different different example of lambda function with a choice of your tasks \n",
    "\n",
    "#Ex1: Print square of number\n",
    "\n",
    "square = lambda x : x **2\n",
    "square(10)"
   ]
  },
  {
   "cell_type": "code",
   "execution_count": 9,
   "id": "f42b443b",
   "metadata": {},
   "outputs": [
    {
     "data": {
      "text/plain": [
       "4"
      ]
     },
     "execution_count": 9,
     "metadata": {},
     "output_type": "execute_result"
    }
   ],
   "source": [
    "# Ex2: Print remainder \n",
    "\n",
    "mod = lambda x : x % 5\n",
    "mod(9)"
   ]
  },
  {
   "cell_type": "code",
   "execution_count": 10,
   "id": "3a5e431e",
   "metadata": {},
   "outputs": [
    {
     "data": {
      "text/plain": [
       "12"
      ]
     },
     "execution_count": 10,
     "metadata": {},
     "output_type": "execute_result"
    }
   ],
   "source": [
    "# Ex3: Print addition of two numbers\n",
    "\n",
    "add = lambda x,y: x+y\n",
    "add(5,7)"
   ]
  },
  {
   "cell_type": "code",
   "execution_count": 11,
   "id": "cf002e48",
   "metadata": {},
   "outputs": [
    {
     "data": {
      "text/plain": [
       "9"
      ]
     },
     "execution_count": 11,
     "metadata": {},
     "output_type": "execute_result"
    }
   ],
   "source": [
    "#Ex4: Maximum of two numbers\n",
    "\n",
    "max = lambda x,y: x if x>y else y\n",
    "max(6,9)"
   ]
  },
  {
   "cell_type": "code",
   "execution_count": 12,
   "id": "1d453618",
   "metadata": {},
   "outputs": [
    {
     "data": {
      "text/plain": [
       "'even'"
      ]
     },
     "execution_count": 12,
     "metadata": {},
     "output_type": "execute_result"
    }
   ],
   "source": [
    "#Ex5: Odd or Even\n",
    "\n",
    "odd_even = lambda x: (x%2 and 'odd' or 'even')\n",
    "odd_even(42)"
   ]
  },
  {
   "cell_type": "code",
   "execution_count": 13,
   "id": "5c14b901",
   "metadata": {},
   "outputs": [
    {
     "name": "stdout",
     "output_type": "stream",
     "text": [
      "['Data', 'Science', 'Course']\n"
     ]
    }
   ],
   "source": [
    "# Ex6: Capitalize the first letter of given words\n",
    "\n",
    "list11 = ['data', 'science', 'course']\n",
    "\n",
    "cap = list(map(lambda f: f.capitalize(), list11))\n",
    "print(cap)"
   ]
  },
  {
   "cell_type": "code",
   "execution_count": 14,
   "id": "e92f434c",
   "metadata": {},
   "outputs": [
    {
     "name": "stdout",
     "output_type": "stream",
     "text": [
      "[64, 125, 216]\n"
     ]
    }
   ],
   "source": [
    "#Ex7: Cube of list of numbers\n",
    "\n",
    "list1=[4,5,6]\n",
    "\n",
    "sqr = list(map(lambda x : x**3, list1)) \n",
    "print(sqr)"
   ]
  },
  {
   "cell_type": "code",
   "execution_count": 15,
   "id": "2522f210",
   "metadata": {},
   "outputs": [
    {
     "name": "stdout",
     "output_type": "stream",
     "text": [
      "[4, 78, 204]\n"
     ]
    }
   ],
   "source": [
    "#Ex 8: Extract even numbers from the list\n",
    "\n",
    "list2 = [4,65,78,43,99,204]\n",
    "\n",
    "even = list(filter(lambda x: x % 2 == 0, list2))\n",
    "print(even)"
   ]
  },
  {
   "cell_type": "code",
   "execution_count": 16,
   "id": "b87110c3",
   "metadata": {},
   "outputs": [
    {
     "name": "stdout",
     "output_type": "stream",
     "text": [
      "[1, 3, 5, 7, 9, 11, 13, 15, 17, 19]\n"
     ]
    }
   ],
   "source": [
    "# Ex9: Extract odd numbers from 1-20\n",
    "\n",
    "odd = list(filter(lambda x : x % 2 != 0, range(21)))\n",
    "print(odd)"
   ]
  },
  {
   "cell_type": "code",
   "execution_count": 17,
   "id": "6c100823",
   "metadata": {},
   "outputs": [
    {
     "name": "stdout",
     "output_type": "stream",
     "text": [
      "60\n"
     ]
    }
   ],
   "source": [
    "#Ex 10: Multiplication of given list of numbers\n",
    "list3 = [3,5,4,1]\n",
    "\n",
    "num = reduce(lambda item1,item2 : item1 * item2, list3)\n",
    "print(num)"
   ]
  },
  {
   "cell_type": "code",
   "execution_count": 18,
   "id": "28316145",
   "metadata": {},
   "outputs": [],
   "source": [
    "# q7 : Try to wwrite a funtion whihc can perform a read operation from .txt file \n",
    "\n",
    "def read_txt(filename):\n",
    "    with open(filename) as f:\n",
    "        for line in f:\n",
    "            print(line)"
   ]
  }
 ],
 "metadata": {
  "kernelspec": {
   "display_name": "Python 3",
   "language": "python",
   "name": "python3"
  },
  "language_info": {
   "codemirror_mode": {
    "name": "ipython",
    "version": 3
   },
   "file_extension": ".py",
   "mimetype": "text/x-python",
   "name": "python",
   "nbconvert_exporter": "python",
   "pygments_lexer": "ipython3",
   "version": "3.8.8"
  }
 },
 "nbformat": 4,
 "nbformat_minor": 5
}
